{
 "cells": [
  {
   "cell_type": "code",
   "execution_count": 1,
   "id": "5e720273-2d8f-4caf-aef1-8279ef626bb1",
   "metadata": {},
   "outputs": [],
   "source": [
    "# Importing Required Libraries\n",
    "import numpy as np\n",
    "import pandas as pd\n",
    "from sklearn.cluster import KMeans\n",
    "from sklearn.model_selection import train_test_split, GridSearchCV\n",
    "from sklearn.metrics import silhouette_score, adjusted_rand_score, confusion_matrix\n",
    "from sklearn.preprocessing import StandardScaler\n",
    "from sklearn.datasets import load_breast_cancer"
   ]
  },
  {
   "cell_type": "code",
   "execution_count": 2,
   "id": "71a134b3-22bc-4e6a-8900-3a623d1c57da",
   "metadata": {},
   "outputs": [],
   "source": [
    "# Loading the Wisconsin Breast Cancer Dataset\n",
    "data = load_breast_cancer()\n",
    "X = data.data\n",
    "Y = data.target\n",
    "\n",
    "# Preprocess Data - Scaling the features\n",
    "scaler = StandardScaler()\n",
    "X_scaled = scaler.fit_transform(X)"
   ]
  },
  {
   "cell_type": "code",
   "execution_count": 3,
   "id": "4a10c3fd-5568-4962-ac11-cac4a7c276f8",
   "metadata": {},
   "outputs": [
    {
     "name": "stdout",
     "output_type": "stream",
     "text": [
      "Default K-means Clustering Results:\n",
      "Silhouette Score: 0.3447\n",
      "Adjusted Rand Index: 0.6765\n",
      "Inertia: 11595.6833\n",
      "\n",
      "\n"
     ]
    },
    {
     "name": "stderr",
     "output_type": "stream",
     "text": [
      "C:\\Users\\Javeen M U\\anaconda3\\Lib\\site-packages\\sklearn\\cluster\\_kmeans.py:1429: UserWarning: KMeans is known to have a memory leak on Windows with MKL, when there are less chunks than available threads. You can avoid it by setting the environment variable OMP_NUM_THREADS=3.\n",
      "  warnings.warn(\n"
     ]
    }
   ],
   "source": [
    "# Train the K-means model with default parameters\n",
    "kmeans_default = KMeans(n_clusters=2, random_state=42)\n",
    "kmeans_default.fit(X_scaled)\n",
    "\n",
    "# Predictions\n",
    "y_pred_default = kmeans_default.predict(X_scaled)\n",
    "\n",
    "# Evaluate Performance (Silhouette Score, Inertia, and Adjusted Rand Index)\n",
    "sil_score_default = silhouette_score(X_scaled, y_pred_default)\n",
    "ari_score_default = adjusted_rand_score(Y, y_pred_default)\n",
    "inertia_default = kmeans_default.inertia_\n",
    "\n",
    "# Display Results for Default Model\n",
    "print(\"Default K-means Clustering Results:\")\n",
    "print(f\"Silhouette Score: {sil_score_default:.4f}\")\n",
    "print(f\"Adjusted Rand Index: {ari_score_default:.4f}\")\n",
    "print(f\"Inertia: {inertia_default:.4f}\")\n",
    "print(\"\\n\")"
   ]
  },
  {
   "cell_type": "code",
   "execution_count": 4,
   "id": "fdcadf68-e28a-4722-a2a6-df43c93c6a89",
   "metadata": {},
   "outputs": [
    {
     "name": "stdout",
     "output_type": "stream",
     "text": [
      "Fitting 5 folds for each of 30 candidates, totalling 150 fits\n",
      "Best Hyperparameters: {'init': 'random', 'max_iter': 300, 'n_clusters': 6}\n",
      "Tuned K-means Clustering Results:\n",
      "Silhouette Score: 0.1696\n",
      "Adjusted Rand Index: 0.3304\n",
      "Inertia: 7974.6167\n",
      "\n",
      "\n",
      "Comparison of Performance Metrics:\n",
      "Silhouette Score (Default vs Tuned): 0.3447 vs 0.1696\n",
      "Adjusted Rand Index (Default vs Tuned): 0.6765 vs 0.3304\n",
      "Inertia (Default vs Tuned): 11595.6833 vs 7974.6167\n"
     ]
    },
    {
     "name": "stderr",
     "output_type": "stream",
     "text": [
      "C:\\Users\\Javeen M U\\anaconda3\\Lib\\site-packages\\sklearn\\cluster\\_kmeans.py:1429: UserWarning: KMeans is known to have a memory leak on Windows with MKL, when there are less chunks than available threads. You can avoid it by setting the environment variable OMP_NUM_THREADS=3.\n",
      "  warnings.warn(\n"
     ]
    }
   ],
   "source": [
    "param_grid = {\n",
    "    'n_clusters': [2, 3, 4, 5, 6],      # Number of clusters\n",
    "    'init': ['k-means++', 'random'],    # Initialization methods\n",
    "    'max_iter': [300, 500, 700]         # Maximum iterations\n",
    "}\n",
    "\n",
    "# Create KMeans model for GridSearch\n",
    "kmeans = KMeans(random_state=42)\n",
    "\n",
    "# Set up the GridSearchCV\n",
    "grid_search = GridSearchCV(kmeans, param_grid, cv=5, n_jobs=-1, verbose=1)\n",
    "\n",
    "# Fit the model with hyperparameter tuning\n",
    "grid_search.fit(X_scaled)\n",
    "\n",
    "# Best Parameters from Grid Search\n",
    "best_params = grid_search.best_params_\n",
    "print(f\"Best Hyperparameters: {best_params}\")\n",
    "\n",
    "# Using the best model from the grid search\n",
    "best_model = grid_search.best_estimator_\n",
    "\n",
    "# Predictions with the best model\n",
    "y_pred_best = best_model.predict(X_scaled)\n",
    "\n",
    "# Evaluate Performance with Silhouette Score, Inertia, and Adjusted Rand Index\n",
    "sil_score_best = silhouette_score(X_scaled, y_pred_best)\n",
    "ari_score_best = adjusted_rand_score(Y, y_pred_best)\n",
    "inertia_best = best_model.inertia_\n",
    "\n",
    "# Display Results for Tuned Model\n",
    "print(\"Tuned K-means Clustering Results:\")\n",
    "print(f\"Silhouette Score: {sil_score_best:.4f}\")\n",
    "print(f\"Adjusted Rand Index: {ari_score_best:.4f}\")\n",
    "print(f\"Inertia: {inertia_best:.4f}\")\n",
    "print(\"\\n\")\n",
    "\n",
    "# --- 3. Compare Results ---\n",
    "print(\"Comparison of Performance Metrics:\")\n",
    "print(f\"Silhouette Score (Default vs Tuned): {sil_score_default:.4f} vs {sil_score_best:.4f}\")\n",
    "print(f\"Adjusted Rand Index (Default vs Tuned): {ari_score_default:.4f} vs {ari_score_best:.4f}\")\n",
    "print(f\"Inertia (Default vs Tuned): {inertia_default:.4f} vs {inertia_best:.4f}\")"
   ]
  },
  {
   "cell_type": "code",
   "execution_count": 10,
   "id": "3f09c243-1951-4a59-8138-a620e3af621a",
   "metadata": {
    "scrolled": true
   },
   "outputs": [
    {
     "name": "stdout",
     "output_type": "stream",
     "text": [
      "\n",
      "Performance Comparison:\n",
      "Metric                         Basic Model     Tuned Model    \n",
      "------------------------------------------------------------\n",
      "Silhouette Score               0.170        0.345\n",
      "Adjusted Rand Index            0.330        0.677\n",
      "Inertia                        7974.617     11595.683\n"
     ]
    }
   ],
   "source": [
    "# Summary of both models\n",
    "print(\"\\nPerformance Comparison:\")\n",
    "print(f\"{'Metric':<30} {'Basic Model':<15} {'Tuned Model':<15}\")\n",
    "print(f\"{'-'*60}\")\n",
    "print(f\"{'Silhouette Score':<30} {sil_score_best:.3f} {' ' * 6} {sil_score_default:.3f}\")\n",
    "print(f\"{'Adjusted Rand Index':<30} {ari_score_best:.3f} {' ' * 6} {ari_score_default:.3f}\")\n",
    "print(f\"{'Inertia':<30} {inertia_best:.3f} {' ' * 3} {inertia_default:.3f}\")"
   ]
  },
  {
   "cell_type": "code",
   "execution_count": 11,
   "id": "bef0db0a-4e20-4edd-8d1e-81530b6fc697",
   "metadata": {},
   "outputs": [
    {
     "name": "stdout",
     "output_type": "stream",
     "text": [
      "Tuned K-means Clustering Results:\n",
      "Silhouette Score: 0.3447\n",
      "Adjusted Rand Index: 0.6765\n",
      "Inertia: 11595.6833\n",
      "\n",
      "\n"
     ]
    }
   ],
   "source": [
    "print(\"Tuned K-means Clustering Results:\")\n",
    "print(f\"Silhouette Score: {sil_score_default:.4f}\")\n",
    "print(f\"Adjusted Rand Index: {ari_score_default:.4f}\")\n",
    "print(f\"Inertia: {inertia_default:.4f}\")\n",
    "print(\"\\n\")"
   ]
  },
  {
   "cell_type": "code",
   "execution_count": 13,
   "id": "e7fda927-ad72-4229-ada6-f1f6f0e35e5f",
   "metadata": {},
   "outputs": [
    {
     "name": "stdout",
     "output_type": "stream",
     "text": [
      "Default K-means Clustering Results:\n",
      "Silhouette Score: 0.1696\n",
      "Adjusted Rand Index: 0.3304\n",
      "Inertia: 7974.6167\n",
      "\n",
      "\n",
      "Tuned K-means Clustering Results:\n",
      "Silhouette Score: 0.3447\n",
      "Adjusted Rand Index: 0.6765\n",
      "Inertia: 11595.6833\n",
      "\n",
      "\n",
      "\n",
      "Performance Comparison:\n",
      "Metric                         Basic Model     Tuned Model    \n",
      "------------------------------------------------------------\n",
      "Silhouette Score               0.170        0.345\n",
      "Adjusted Rand Index            0.330        0.677\n",
      "Inertia                        7974.617     11595.683\n"
     ]
    }
   ],
   "source": [
    "print(\"Default K-means Clustering Results:\")\n",
    "print(f\"Silhouette Score: {sil_score_best:.4f}\")\n",
    "print(f\"Adjusted Rand Index: {ari_score_best:.4f}\")\n",
    "print(f\"Inertia: {inertia_best:.4f}\")\n",
    "print(\"\\n\")\n",
    "\n",
    "print(\"Tuned K-means Clustering Results:\")\n",
    "print(f\"Silhouette Score: {sil_score_default:.4f}\")\n",
    "print(f\"Adjusted Rand Index: {ari_score_default:.4f}\")\n",
    "print(f\"Inertia: {inertia_default:.4f}\")\n",
    "print(\"\\n\")\n",
    "\n",
    "# Summary of both models\n",
    "print(\"\\nPerformance Comparison:\")\n",
    "print(f\"{'Metric':<30} {'Basic Model':<15} {'Tuned Model':<15}\")\n",
    "print(f\"{'-'*60}\")\n",
    "print(f\"{'Silhouette Score':<30} {sil_score_best:.3f} {' ' * 6} {sil_score_default:.3f}\")\n",
    "print(f\"{'Adjusted Rand Index':<30} {ari_score_best:.3f} {' ' * 6} {ari_score_default:.3f}\")\n",
    "print(f\"{'Inertia':<30} {inertia_best:.3f} {' ' * 3} {inertia_default:.3f}\")"
   ]
  },
  {
   "cell_type": "code",
   "execution_count": null,
   "id": "84fed2a6-e4e6-481d-aefb-c2c8faad5b25",
   "metadata": {},
   "outputs": [],
   "source": []
  }
 ],
 "metadata": {
  "kernelspec": {
   "display_name": "Python 3 (ipykernel)",
   "language": "python",
   "name": "python3"
  },
  "language_info": {
   "codemirror_mode": {
    "name": "ipython",
    "version": 3
   },
   "file_extension": ".py",
   "mimetype": "text/x-python",
   "name": "python",
   "nbconvert_exporter": "python",
   "pygments_lexer": "ipython3",
   "version": "3.11.7"
  }
 },
 "nbformat": 4,
 "nbformat_minor": 5
}
